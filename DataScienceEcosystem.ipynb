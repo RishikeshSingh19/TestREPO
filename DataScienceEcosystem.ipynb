{
 "cells": [
  {
   "cell_type": "markdown",
   "id": "a635e461-59b3-4806-b042-5ead4f2d0b7d",
   "metadata": {},
   "source": [
    "# Data Science Tools and Ecosystem"
   ]
  },
  {
   "cell_type": "markdown",
   "id": "2647175e-254a-48be-9643-3d9158eb4622",
   "metadata": {},
   "source": [
    "In this notebook , Data Science Tools and Ecosystem are summarized."
   ]
  },
  {
   "cell_type": "markdown",
   "id": "eb89635d-e2a4-42ae-a9ed-3d88425bf702",
   "metadata": {},
   "source": [
    "**Objectives:**\n",
    "+ Popular Languages In Data Science.\n",
    "+ Libraries Used In Data Science.\n",
    "+ Some basic Arithmetic Operations in python and more."
   ]
  },
  {
   "cell_type": "markdown",
   "id": "5faace25-c2de-4735-8d61-c0ceb653b92c",
   "metadata": {},
   "source": [
    "Some of the Popular Languages that Data Scientists use are : \n",
    "\n",
    "1. Python.\n",
    "2. R.\n",
    "3. SQL.\n",
    "4. Java.\n",
    "5. Julia.\n",
    "6. Scala."
   ]
  },
  {
   "cell_type": "markdown",
   "id": "aa4ff51e-09fb-4e0e-9c00-402d891fdfb5",
   "metadata": {},
   "source": [
    "Some of the Commonly used libraries used by Data Scientists include : \n",
    "\n",
    "1. Pandas.\n",
    "2. Numpy.\n",
    "3. Seaborn.\n",
    "4. Matplotlib."
   ]
  },
  {
   "cell_type": "markdown",
   "id": "5d4fddce-707d-415b-b8a6-7064ab57e897",
   "metadata": {},
   "source": [
    "|**Data Science Tools**|\n",
    "|----------------------|\n",
    "| Jupyter Notebook     |\n",
    "|   R Studio           |\n",
    "| Google Colab         |"
   ]
  },
  {
   "cell_type": "markdown",
   "id": "6f2f13ea-e320-4c7b-8390-a70a93d9e7b4",
   "metadata": {},
   "source": [
    "### Below are a few Examples of evaluating arithmetic expressions in Python."
   ]
  },
  {
   "cell_type": "code",
   "execution_count": 8,
   "id": "09ac1d0f-d08f-4a0a-8469-6d1d1f158a95",
   "metadata": {},
   "outputs": [
    {
     "data": {
      "text/plain": [
       "17"
      ]
     },
     "execution_count": 8,
     "metadata": {},
     "output_type": "execute_result"
    }
   ],
   "source": [
    "# This is a Simple Arithmetic Expression to Multiply then Add Integers.\n",
    "(3*4)+5"
   ]
  },
  {
   "cell_type": "code",
   "execution_count": 10,
   "id": "4c92a8ca-a6f3-4f67-bddc-6167dd0bf4ae",
   "metadata": {},
   "outputs": [
    {
     "data": {
      "text/plain": [
       "3.3333333333333335"
      ]
     },
     "execution_count": 10,
     "metadata": {},
     "output_type": "execute_result"
    }
   ],
   "source": [
    "# This will convert 200 minutes to hours by dividing by 60.\n",
    "200/60"
   ]
  },
  {
   "cell_type": "markdown",
   "id": "100c3d34-af5a-4348-acee-7a1fbe0e3ff4",
   "metadata": {},
   "source": [
    "## Author\n",
    "Rishikesh Singh"
   ]
  },
  {
   "cell_type": "code",
   "execution_count": null,
   "id": "6de5f5c1-c3bd-4479-ae96-c2724cb88da3",
   "metadata": {},
   "outputs": [],
   "source": []
  }
 ],
 "metadata": {
  "kernelspec": {
   "display_name": "Python (PD-env)",
   "language": "python",
   "name": "pd-env"
  },
  "language_info": {
   "codemirror_mode": {
    "name": "ipython",
    "version": 3
   },
   "file_extension": ".py",
   "mimetype": "text/x-python",
   "name": "python",
   "nbconvert_exporter": "python",
   "pygments_lexer": "ipython3",
   "version": "3.12.9"
  }
 },
 "nbformat": 4,
 "nbformat_minor": 5
}
